{
  "nbformat": 4,
  "nbformat_minor": 0,
  "metadata": {
    "colab": {
      "name": "CarSteering_CNN.ipynb",
      "version": "0.3.2",
      "provenance": [],
      "collapsed_sections": []
    },
    "kernelspec": {
      "name": "python3",
      "display_name": "Python 3"
    },
    "accelerator": "GPU"
  },
  "cells": [
    {
      "cell_type": "code",
      "metadata": {
        "id": "wiDG_BmQO_GJ",
        "colab_type": "code",
        "outputId": "d0a53a15-09d8-4d61-a2c8-480b4b21de9f",
        "colab": {
          "base_uri": "https://localhost:8080/",
          "height": 136
        }
      },
      "source": [
        "!git clone https://github.com/jerzy456/Track_3"
      ],
      "execution_count": 0,
      "outputs": [
        {
          "output_type": "stream",
          "text": [
            "Cloning into 'Track_2'...\n",
            "remote: Enumerating objects: 19669, done.\u001b[K\n",
            "remote: Counting objects: 100% (19669/19669), done.\u001b[K\n",
            "remote: Compressing objects: 100% (19669/19669), done.\u001b[K\n",
            "remote: Total 19669 (delta 0), reused 19669 (delta 0), pack-reused 0\n",
            "Receiving objects: 100% (19669/19669), 257.21 MiB | 15.92 MiB/s, done.\n",
            "Checking out files: 100% (19672/19672), done.\n"
          ],
          "name": "stdout"
        }
      ]
    },
    {
      "cell_type": "code",
      "metadata": {
        "id": "7JSZ2oY9nGCe",
        "colab_type": "code",
        "outputId": "b097fd15-6889-4650-c527-cb5cec2c1686",
        "colab": {
          "base_uri": "https://localhost:8080/",
          "height": 80
        }
      },
      "source": [
        "!git clone https://github.com/rslim087a/track\n",
        "!ls track"
      ],
      "execution_count": 0,
      "outputs": [
        {
          "output_type": "stream",
          "text": [
            "Cloning into 'track'...\n",
            "remote: Enumerating objects: 12163, done.\u001b[K\n"
          ],
          "name": "stdout"
        }
      ]
    },
    {
      "cell_type": "code",
      "metadata": {
        "id": "jtIuZ38sPHcm",
        "colab_type": "code",
        "colab": {}
      },
      "source": [
        " !rm *.hdf5"
      ],
      "execution_count": 0,
      "outputs": []
    },
    {
      "cell_type": "code",
      "metadata": {
        "id": "2u4t-hk0HIi0",
        "colab_type": "code",
        "colab": {}
      },
      "source": [
        "ls"
      ],
      "execution_count": 0,
      "outputs": []
    },
    {
      "cell_type": "code",
      "metadata": {
        "id": "l4uNxJ9GPPh3",
        "colab_type": "code",
        "colab": {}
      },
      "source": [
        "import os\n",
        "import numpy as np\n",
        "import matplotlib.pyplot as plt\n",
        "import matplotlib.image as mpimg\n",
        "import keras\n",
        "\n",
        "from keras.models import Sequential\n",
        "from keras.optimizers import Adam\n",
        "from keras.layers import Convolution2D, MaxPooling2D, Dropout, Flatten, Dense, ConvLSTM2D, Conv3D\n",
        "from sklearn.utils import shuffle\n",
        "from sklearn.model_selection import train_test_split\n",
        "from imgaug import augmenters as iaa\n",
        "import cv2\n",
        "import pandas as pd\n",
        "import ntpath\n",
        "import random\n",
        "from google.colab import files"
      ],
      "execution_count": 0,
      "outputs": []
    },
    {
      "cell_type": "code",
      "metadata": {
        "id": "j76DSyhrQnQx",
        "colab_type": "code",
        "colab": {}
      },
      "source": [
        "datadir ='track'\n",
        "columns = ['center', 'left','right', 'steering', 'throttle','reverse', 'speed']\n",
        "data=pd.read_csv(os.path.join(datadir,'driving_log.csv'), names = columns, index_col=False )\n",
        "pd.set_option('display.max_colwidth',-1)\n",
        "data.head()"
      ],
      "execution_count": 0,
      "outputs": []
    },
    {
      "cell_type": "code",
      "metadata": {
        "id": "Cg9xJkV6RnVT",
        "colab_type": "code",
        "colab": {}
      },
      "source": [
        "def path_leaf(path):\n",
        "  head, tail = ntpath.split(path)\n",
        "  return tail"
      ],
      "execution_count": 0,
      "outputs": []
    },
    {
      "cell_type": "code",
      "metadata": {
        "id": "LBMKQTkDTDKy",
        "colab_type": "code",
        "colab": {}
      },
      "source": [
        "data['center']=data['center'].apply(path_leaf)\n",
        "data['right']=data['right'].apply(path_leaf)\n",
        "data['left']=data['left'].apply(path_leaf)"
      ],
      "execution_count": 0,
      "outputs": []
    },
    {
      "cell_type": "code",
      "metadata": {
        "id": "WnsjxKZATRye",
        "colab_type": "code",
        "colab": {}
      },
      "source": [
        "data.head()"
      ],
      "execution_count": 0,
      "outputs": []
    },
    {
      "cell_type": "code",
      "metadata": {
        "id": "p8LN2AUKUOvl",
        "colab_type": "code",
        "colab": {}
      },
      "source": [
        "num_bins = 25\n",
        "samples_per_bin = 400\n",
        "hist, bins =np.histogram(data['steering'],num_bins)\n",
        "center =(bins[:-1]+bins[1:])*0.5\n",
        "print(bins)\n",
        "plt.bar(center, hist, width=0.05)\n",
        "plt.plot((np.min(data['steering']),np.max(data['steering'])),(samples_per_bin, samples_per_bin))"
      ],
      "execution_count": 0,
      "outputs": []
    },
    {
      "cell_type": "code",
      "metadata": {
        "id": "y-NZNbwkZNXC",
        "colab_type": "code",
        "colab": {}
      },
      "source": [
        "print('All data:', len(data))\n",
        "remove_list =[]\n",
        "for j in range(num_bins):\n",
        "  list_ =[]\n",
        "  for i in range(len(data['steering'])):\n",
        "    if data['steering'][i]>=bins[j] and data['steering'][i]<=bins[j+1]:\n",
        "      list_.append(i)\n",
        "  list_ = shuffle(list_)\n",
        "  list_= list_[samples_per_bin:]\n",
        "  remove_list.extend(list_)\n",
        "    \n",
        "print('Removed:', len(remove_list))\n",
        "data.drop(data.index[remove_list], inplace = True)\n",
        "print('Remaining:', len(data))\n",
        "\n"
      ],
      "execution_count": 0,
      "outputs": []
    },
    {
      "cell_type": "code",
      "metadata": {
        "id": "j2XdHswcb4cy",
        "colab_type": "code",
        "colab": {}
      },
      "source": [
        "\n",
        "hist, bins =np.histogram(data['steering'],num_bins)\n",
        "plt.bar(center, hist, width=0.05)\n",
        "plt.plot((np.min(data['steering']),np.max(data['steering'])),(samples_per_bin, samples_per_bin))"
      ],
      "execution_count": 0,
      "outputs": []
    },
    {
      "cell_type": "markdown",
      "metadata": {
        "id": "qnGZ7IY-ciTR",
        "colab_type": "text"
      },
      "source": [
        "***Loading pictures***\n"
      ]
    },
    {
      "cell_type": "code",
      "metadata": {
        "id": "qONdk0RkcoiX",
        "colab_type": "code",
        "colab": {}
      },
      "source": [
        "def load_img_steering(datadir,df):\n",
        "  image_path=[]\n",
        "  steering =[]\n",
        "  for i in range(len(data)):\n",
        "    indexed_data = data.iloc[i]\n",
        "    center, left, right = indexed_data[0], indexed_data[2], indexed_data[3]\n",
        "    image_path.append(os.path.join(datadir, center.strip()))\n",
        "    steering.append(float(indexed_data[3]))\n",
        "  image_paths = np.asarray(image_path)\n",
        "  steerings =np.asarray(steering)\n",
        "  return image_paths, steerings"
      ],
      "execution_count": 0,
      "outputs": []
    },
    {
      "cell_type": "code",
      "metadata": {
        "id": "B8pl0Ow3dnNI",
        "colab_type": "code",
        "colab": {}
      },
      "source": [
        "source = datadir +\"/IMG\"\n",
        "image_paths, steerings = load_img_steering(source, data)"
      ],
      "execution_count": 0,
      "outputs": []
    },
    {
      "cell_type": "code",
      "metadata": {
        "id": "rCv7S0oHhejj",
        "colab_type": "code",
        "colab": {}
      },
      "source": [
        "image_paths"
      ],
      "execution_count": 0,
      "outputs": []
    },
    {
      "cell_type": "code",
      "metadata": {
        "id": "nvgpsK4geF9G",
        "colab_type": "code",
        "colab": {}
      },
      "source": [
        "x_train, x_valid, y_train, y_valid =train_test_split(image_paths, steerings, test_size=0.2, random_state=0)"
      ],
      "execution_count": 0,
      "outputs": []
    },
    {
      "cell_type": "code",
      "metadata": {
        "id": "zZuqoKp2ePm1",
        "colab_type": "code",
        "colab": {}
      },
      "source": [
        "fig, axes = plt.subplots(1,2,figsize=(12,4))\n",
        "axes[0].hist(y_train, bins=num_bins, width=0.05, color='blue')\n",
        "axes[0].set_title('Training set')\n",
        "\n",
        "\n",
        "axes[1].hist(y_valid, bins=num_bins, width=0.05, color='red')\n",
        "axes[1].set_title('Validation set')"
      ],
      "execution_count": 0,
      "outputs": []
    },
    {
      "cell_type": "code",
      "metadata": {
        "id": "JEHvV7zYoMr5",
        "colab_type": "code",
        "colab": {}
      },
      "source": [
        "def zoom(image):\n",
        "  zoom=iaa.Affine(scale=(1,1.3))\n",
        "  image = zoom.augment_image(image)\n",
        "  return image"
      ],
      "execution_count": 0,
      "outputs": []
    },
    {
      "cell_type": "code",
      "metadata": {
        "id": "mPFagdEFswKC",
        "colab_type": "code",
        "colab": {}
      },
      "source": [
        "image = image_paths[random.randint(0,1000)]\n",
        "original_image=mpimg.imread(image)\n",
        "fig,axes = plt.subplots(1,2, figsize=(15,10))\n",
        "fig.tight_layout()\n",
        "\n",
        "axes[0].imshow(original_image)\n",
        "axes[0].set_title('original_image')\n",
        "\n",
        "axes[1].imshow(zoom(original_image))\n",
        "axes[1].set_title('preprocessed_image')"
      ],
      "execution_count": 0,
      "outputs": []
    },
    {
      "cell_type": "code",
      "metadata": {
        "id": "NLNy9Yt0vF4C",
        "colab_type": "code",
        "colab": {}
      },
      "source": [
        "def pan(image):\n",
        "  pan=iaa.Affine(translate_percent={\"x\":(-0.1,0.1), \"y\":(-0.1,0.1)})\n",
        "  image = pan.augment_image(image)\n",
        "  return image"
      ],
      "execution_count": 0,
      "outputs": []
    },
    {
      "cell_type": "code",
      "metadata": {
        "id": "pMgdyBWlvZbL",
        "colab_type": "code",
        "colab": {}
      },
      "source": [
        "image = image_paths[random.randint(0,1000)]\n",
        "original_image=mpimg.imread(image)\n",
        "fig,axes = plt.subplots(1,2, figsize=(15,10))\n",
        "fig.tight_layout()\n",
        "\n",
        "axes[0].imshow(original_image)\n",
        "axes[0].set_title('original_image')\n",
        "\n",
        "axes[1].imshow(pan(original_image))\n",
        "axes[1].set_title('preprocessed_image')"
      ],
      "execution_count": 0,
      "outputs": []
    },
    {
      "cell_type": "code",
      "metadata": {
        "id": "VEx4YXQHv0bg",
        "colab_type": "code",
        "colab": {}
      },
      "source": [
        "def img_random_brightness(image):\n",
        "  brightness_val=iaa.Multiply((0.2,1.2))\n",
        "  image = brightness_val.augment_image(image)\n",
        "  return image\n",
        "  "
      ],
      "execution_count": 0,
      "outputs": []
    },
    {
      "cell_type": "code",
      "metadata": {
        "id": "cg_vGPcJwRWA",
        "colab_type": "code",
        "colab": {}
      },
      "source": [
        "image = image_paths[random.randint(0,1000)]\n",
        "original_image=mpimg.imread(image)\n",
        "fig,axes = plt.subplots(1,2, figsize=(15,10))\n",
        "fig.tight_layout()\n",
        "\n",
        "axes[0].imshow(original_image)\n",
        "axes[0].set_title('original_image')\n",
        "\n",
        "axes[1].imshow(img_random_brightness(original_image))\n",
        "axes[1].set_title('preprocessed_image')"
      ],
      "execution_count": 0,
      "outputs": []
    },
    {
      "cell_type": "code",
      "metadata": {
        "id": "laj-MRGDwlTU",
        "colab_type": "code",
        "colab": {}
      },
      "source": [
        "def img_random_flip(image,steering_angle ):\n",
        "  \n",
        "  image = cv2.flip(image, 1)\n",
        "  steering_angle = -steering_angle\n",
        "  return image, steering_angle"
      ],
      "execution_count": 0,
      "outputs": []
    },
    {
      "cell_type": "code",
      "metadata": {
        "id": "gLKHgpJIxDb3",
        "colab_type": "code",
        "colab": {}
      },
      "source": [
        "random_index = random.randint(0,1000)\n",
        "image = image_paths[random_index]\n",
        "steering_angle = steerings[random_index]\n",
        "\n",
        "\n",
        "original_image=mpimg.imread(image)\n",
        "flipped_image, flipped_steering_angle =img_random_flip(original_image,steering_angle)\n",
        "\n",
        "\n",
        "fig,axes = plt.subplots(1,2, figsize=(15,10))\n",
        "fig.tight_layout()\n",
        "\n",
        "axes[0].imshow(original_image)\n",
        "axes[0].set_title('original_image  '+ \"angle:  \" + str(steering_angle))\n",
        "\n",
        "axes[1].imshow(flipped_image)\n",
        "axes[1].set_title('preprocessed_image  '+ \"angle:  \" + str(flipped_steering_angle))"
      ],
      "execution_count": 0,
      "outputs": []
    },
    {
      "cell_type": "code",
      "metadata": {
        "id": "spDu8FPYySdD",
        "colab_type": "code",
        "colab": {}
      },
      "source": [
        "def random_augment(image,steering_angle):\n",
        "  image = mpimg.imread(image)\n",
        "  if np.random.rand()>0.5:\n",
        "    image = pan(image)\n",
        "  if np.random.rand()>0.5:\n",
        "    image = zoom(image)\n",
        "  if np.random.rand()>0.5:\n",
        "    image = img_random_brightness(image)\n",
        "  if np.random.rand()>0.5:\n",
        "    image, steering_angle = img_random_flip(image, steering_angle)\n",
        "  return image, steering_angle\n",
        "    "
      ],
      "execution_count": 0,
      "outputs": []
    },
    {
      "cell_type": "code",
      "metadata": {
        "id": "AXOYtT_r6TmS",
        "colab_type": "code",
        "colab": {}
      },
      "source": [
        "ncol = 2\n",
        "nrow = 10\n",
        " \n",
        "fig, axs = plt.subplots(nrow, ncol, figsize=(15, 50))\n",
        "fig.tight_layout()\n",
        " \n",
        "for i in range(10):\n",
        "  randnum = random.randint(0, len(image_paths) - 1)\n",
        "  random_image = image_paths[randnum]\n",
        "  random_steering = steerings[randnum]\n",
        "    \n",
        "  original_image = mpimg.imread(random_image)\n",
        "  augmented_image, steering = random_augment(random_image, random_steering)\n",
        "    \n",
        "  axs[i][0].imshow(original_image)\n",
        "  axs[i][0].set_title(\"Original Image\")\n",
        "  \n",
        "  axs[i][1].imshow(augmented_image)\n",
        "  axs[i][1].set_title(\"Augmented Image\")"
      ],
      "execution_count": 0,
      "outputs": []
    },
    {
      "cell_type": "markdown",
      "metadata": {
        "id": "XYXt3ZiafiNR",
        "colab_type": "text"
      },
      "source": [
        "*** Image processing***"
      ]
    },
    {
      "cell_type": "code",
      "metadata": {
        "id": "ok3TpeHGflSS",
        "colab_type": "code",
        "colab": {}
      },
      "source": [
        "def img_preprocess(img):\n",
        "  \n",
        "  img = img[60:135]\n",
        "  img = cv2.cvtColor(img, cv2.COLOR_RGB2YUV)\n",
        "  img = cv2.GaussianBlur(img, (3,3), 0)\n",
        "  img = cv2.resize(img, (200,66))\n",
        "  img=img/255\n",
        "  return img\n",
        "  "
      ],
      "execution_count": 0,
      "outputs": []
    },
    {
      "cell_type": "code",
      "metadata": {
        "id": "99UA2rC3f7oI",
        "colab_type": "code",
        "colab": {}
      },
      "source": [
        "image = image_paths[100]\n",
        "original_image = mpimg.imread(image)\n",
        "preprocessed_image = img_preprocess(original_image)\n",
        " \n",
        "fig, axs = plt.subplots(1, 2, figsize=(15, 10))\n",
        "fig.tight_layout()\n",
        "axs[0].imshow(original_image)\n",
        "axs[0].set_title('Original Image')\n",
        "axs[1].imshow(preprocessed_image)\n",
        "axs[1].set_title('Preprocessed Image')"
      ],
      "execution_count": 0,
      "outputs": []
    },
    {
      "cell_type": "markdown",
      "metadata": {
        "id": "dmaqepFZkBfx",
        "colab_type": "text"
      },
      "source": [
        "***Preprocessing data***"
      ]
    },
    {
      "cell_type": "code",
      "metadata": {
        "id": "b0-o2OUe_JeQ",
        "colab_type": "code",
        "colab": {}
      },
      "source": [
        "def batch_generator(image_paths, steering_ang, batch_size, istraining):\n",
        "  \n",
        "  while True:\n",
        "    batch_img = []\n",
        "    batch_steering = []\n",
        "    \n",
        "    for i in range(batch_size):\n",
        "      random_index = random.randint(0, len(image_paths) - 1)\n",
        "      \n",
        "      if istraining:\n",
        "        im, steering = random_augment(image_paths[random_index], steering_ang[random_index])\n",
        "     \n",
        "      else:\n",
        "        im = mpimg.imread(image_paths[random_index])\n",
        "        steering = steering_ang[random_index]\n",
        "      \n",
        "      im = img_preprocess(im)\n",
        "      batch_img.append(im)\n",
        "      batch_steering.append(steering)\n",
        "    yield (np.asarray(batch_img), np.asarray(batch_steering))  \n",
        "        \n",
        "      "
      ],
      "execution_count": 0,
      "outputs": []
    },
    {
      "cell_type": "code",
      "metadata": {
        "id": "Zw3wlQpCCfx_",
        "colab_type": "code",
        "outputId": "5c75b08f-8f18-4055-8559-71a60989f77a",
        "colab": {
          "base_uri": "https://localhost:8080/",
          "height": 278
        }
      },
      "source": [
        "x_train_gen, y_train_gen = next(batch_generator(x_train, y_train, 10, 1))\n",
        "x_valid_gen, y_valid_gen = next(batch_generator(x_valid, y_valid, 10, 0))\n",
        "\n",
        "print(\"X train shape: \", x_train_gen.shape)\n",
        "print(\"Y train shape: \", y_train_gen.shape)  \n",
        " \n",
        "fig, axs = plt.subplots(1, 2, figsize=(15, 10))\n",
        "fig.tight_layout()\n",
        " \n",
        "axs[0].imshow(x_train_gen[0])\n",
        "axs[0].set_title('Training Image')\n",
        " \n",
        "axs[1].imshow(x_valid_gen[0])\n",
        "axs[1].set_title('Validation Image')"
      ],
      "execution_count": 0,
      "outputs": [
        {
          "output_type": "stream",
          "text": [
            "X train shape:  (10, 66, 200, 3)\n",
            "Y train shape:  (10,)\n"
          ],
          "name": "stdout"
        },
        {
          "output_type": "execute_result",
          "data": {
            "text/plain": [
              "Text(0.5, 1.0, 'Validation Image')"
            ]
          },
          "metadata": {
            "tags": []
          },
          "execution_count": 47
        },
        {
          "output_type": "display_data",
          "data": {
            "image/png": "[encoded data removed]",
            "text/plain": [
              "<Figure size 1080x720 with 2 Axes>"
            ]
          },
          "metadata": {
            "tags": []
          }
        }
      ]
    },
    {
      "cell_type": "code",
      "metadata": {
        "id": "i_2Sfazt5VnH",
        "colab_type": "code",
        "colab": {}
      },
      "source": [
        ""
      ],
      "execution_count": 0,
      "outputs": []
    },
    {
      "cell_type": "markdown",
      "metadata": {
        "id": "QuoGKPQzlWFX",
        "colab_type": "text"
      },
      "source": [
        "***Designing NVIDIA model***"
      ]
    },
    {
      "cell_type": "code",
      "metadata": {
        "id": "pp1Wgw4NlaEm",
        "colab_type": "code",
        "colab": {}
      },
      "source": [
        "def nvidia_model():\n",
        "  model = Sequential()\n",
        "  model.add(Convolution2D(24,5,5,subsample=(2,2),input_shape =(66,200,3),activation='elu'))\n",
        "  model.add(Convolution2D(36,5,5, subsample =(2,2),activation='elu'))\n",
        "  model.add(Convolution2D(48,5,5, subsample =(2,2),activation='elu'))\n",
        "  model.add(Convolution2D(64,3,3,activation='elu'))\n",
        "  model.add(Convolution2D(64,3,3,activation='elu'))\n",
        "  #model.add(Dropout(0.5))\n",
        "  \n",
        "  \n",
        "  model.add(Flatten())\n",
        "  model.add(Dense(100,activation='elu'))\n",
        "  #model.add(Dropout(0.5))\n",
        "  \n",
        "  \n",
        "  model.add(Dense(50,activation='elu'))\n",
        "  #model.add(Dropout(0.5))\n",
        "  \n",
        "  model.add(Dense(10,activation='elu'))\n",
        "  #model.add(Dropout(0.5))\n",
        "  \n",
        "  model.add(Dense(1,activation='tanh'))\n",
        "  model.compile(loss='mse', optimizer = Adam(lr=1e-4))\n",
        "  return model"
      ],
      "execution_count": 0,
      "outputs": []
    },
    {
      "cell_type": "code",
      "metadata": {
        "id": "4Wd68XAFuq0u",
        "colab_type": "code",
        "colab": {}
      },
      "source": [
        "def PilotNet_model():\n",
        "  \n",
        "  #Layers\n",
        "  \n",
        "  model = Sequential()\n",
        "  model.add(Convolution2D(24,5,5,border_mode='valid',input_shape =(66,200,3), activation='elu', subsample=(2,2)))\n",
        "  model.add(Dropout(0.1))\n",
        "  model.add(Convolution2D(36,5,5,border_mode='valid', activation='elu', subsample=(2,2)))\n",
        "  model.add(Dropout(0.2))\n",
        "  model.add(Convolution2D(48,5,5,border_mode='valid', activation='elu', subsample=(2,2)))\n",
        "  model.add(Dropout(0.2))\n",
        "  model.add(Convolution2D(64,3,3,border_mode='valid', activation='elu', subsample=(1,1)))\n",
        "  model.add(Dropout(0.2))\n",
        "  model.add(Convolution2D(64,3,3,border_mode='valid', activation='elu', subsample=(1,1)))\n",
        "  model.add(Dropout(0.2))\n",
        "\n",
        "  model.add(Flatten())\n",
        "  \n",
        "  model.add(Dense(1024, activation='elu'))\n",
        "  model.add(Dropout(0.2))\n",
        "  model.add(Dense(500, activation='elu'))\n",
        "  model.add(Dropout(0.2))\n",
        "  model.add(Dense(100, activation='elu'))\n",
        "  model.add(Dropout(0.2))\n",
        "  model.add(Dense(50, activation='elu'))\n",
        "  model.add(Dropout(0.2))\n",
        "  model.add(Dense(10, activation='elu'))\n",
        "  model.add(Dense(1, activation='tanh'))\n",
        "\n",
        "\n",
        "  \n",
        "  model.add(Dense(1))\n",
        "  model.compile(loss='mse', optimizer = Adam(lr=1e-3))\n",
        "  \n",
        "  return model"
      ],
      "execution_count": 0,
      "outputs": []
    },
    {
      "cell_type": "code",
      "metadata": {
        "id": "kuzbSlye8gO3",
        "colab_type": "code",
        "colab": {}
      },
      "source": [
        "#Callbacks\n",
        "  filepath= 'PilotNet_model-{epoch:02d}-{val_loss:.2f}.hdf5'\n",
        "  \n",
        "  callback1 = keras.callbacks.ModelCheckpoint(filepath, monitor='val_loss', verbose=0, save_best_only=True, save_weights_only=False, mode='auto', period=1)\n",
        "  callback2 = keras.callbacks.EarlyStopping(monitor='val_loss', min_delta=0, patience=3, verbose=0, mode='auto', baseline=None, restore_best_weights=False)"
      ],
      "execution_count": 0,
      "outputs": []
    },
    {
      "cell_type": "code",
      "metadata": {
        "id": "H124bx_hphvE",
        "colab_type": "code",
        "outputId": "79dab9fe-7140-452a-d3a5-adafb93731d1",
        "colab": {
          "base_uri": "https://localhost:8080/",
          "height": 663
        }
      },
      "source": [
        "model = nvidia_model()\n",
        "print(model.summary())"
      ],
      "execution_count": 0,
      "outputs": [
        {
          "output_type": "stream",
          "text": [
            "_________________________________________________________________\n",
            "Layer (type)                 Output Shape              Param #   \n",
            "=================================================================\n",
            "conv2d_6 (Conv2D)            (None, 31, 98, 24)        1824      \n",
            "_________________________________________________________________\n",
            "conv2d_7 (Conv2D)            (None, 14, 47, 36)        21636     \n",
            "_________________________________________________________________\n",
            "conv2d_8 (Conv2D)            (None, 5, 22, 48)         43248     \n",
            "_________________________________________________________________\n",
            "conv2d_9 (Conv2D)            (None, 3, 20, 64)         27712     \n",
            "_________________________________________________________________\n",
            "conv2d_10 (Conv2D)           (None, 1, 18, 64)         36928     \n",
            "_________________________________________________________________\n",
            "flatten_2 (Flatten)          (None, 1152)              0         \n",
            "_________________________________________________________________\n",
            "dense_5 (Dense)              (None, 100)               115300    \n",
            "_________________________________________________________________\n",
            "dense_6 (Dense)              (None, 50)                5050      \n",
            "_________________________________________________________________\n",
            "dense_7 (Dense)              (None, 10)                510       \n",
            "_________________________________________________________________\n",
            "dense_8 (Dense)              (None, 1)                 11        \n",
            "=================================================================\n",
            "Total params: 252,219\n",
            "Trainable params: 252,219\n",
            "Non-trainable params: 0\n",
            "_________________________________________________________________\n",
            "None\n"
          ],
          "name": "stdout"
        },
        {
          "output_type": "stream",
          "text": [
            "/usr/local/lib/python3.6/dist-packages/ipykernel_launcher.py:3: UserWarning: Update your `Conv2D` call to the Keras 2 API: `Conv2D(24, (5, 5), input_shape=(66, 200, ..., activation=\"elu\", strides=(2, 2))`\n",
            "  This is separate from the ipykernel package so we can avoid doing imports until\n",
            "/usr/local/lib/python3.6/dist-packages/ipykernel_launcher.py:4: UserWarning: Update your `Conv2D` call to the Keras 2 API: `Conv2D(36, (5, 5), activation=\"elu\", strides=(2, 2))`\n",
            "  after removing the cwd from sys.path.\n",
            "/usr/local/lib/python3.6/dist-packages/ipykernel_launcher.py:5: UserWarning: Update your `Conv2D` call to the Keras 2 API: `Conv2D(48, (5, 5), activation=\"elu\", strides=(2, 2))`\n",
            "  \"\"\"\n",
            "/usr/local/lib/python3.6/dist-packages/ipykernel_launcher.py:6: UserWarning: Update your `Conv2D` call to the Keras 2 API: `Conv2D(64, (3, 3), activation=\"elu\")`\n",
            "  \n",
            "/usr/local/lib/python3.6/dist-packages/ipykernel_launcher.py:7: UserWarning: Update your `Conv2D` call to the Keras 2 API: `Conv2D(64, (3, 3), activation=\"elu\")`\n",
            "  import sys\n"
          ],
          "name": "stderr"
        }
      ]
    },
    {
      "cell_type": "code",
      "metadata": {
        "id": "Kq_65Fespy-E",
        "colab_type": "code",
        "outputId": "0808de9b-3616-4ba5-c377-9e7471d0d6cf",
        "colab": {
          "base_uri": "https://localhost:8080/",
          "height": 204
        }
      },
      "source": [
        "history = model.fit_generator(batch_generator(x_train, y_train, 100, 1),\n",
        "                                  steps_per_epoch=300, \n",
        "                                  epochs=14,\n",
        "                                  validation_data=batch_generator(x_valid, y_valid, 100, 0),\n",
        "                                  validation_steps=200,\n",
        "                                  verbose=1,\n",
        "                                  shuffle = 1,\n",
        "                                  callbacks=[ callback1, callback2])"
      ],
      "execution_count": 0,
      "outputs": [
        {
          "output_type": "stream",
          "text": [
            "WARNING:tensorflow:From /usr/local/lib/python3.6/dist-packages/tensorflow/python/ops/math_ops.py:3066: to_int32 (from tensorflow.python.ops.math_ops) is deprecated and will be removed in a future version.\n",
            "Instructions for updating:\n",
            "Use tf.cast instead.\n",
            "Epoch 1/14\n",
            "300/300 [==============================] - 164s 546ms/step - loss: 0.0873 - val_loss: 0.0422\n",
            "Epoch 2/14\n",
            "300/300 [==============================] - 158s 526ms/step - loss: 0.0653 - val_loss: 0.0401\n",
            "Epoch 3/14\n",
            "300/300 [==============================] - 157s 522ms/step - loss: 0.0620 - val_loss: 0.0388\n",
            "Epoch 4/14\n",
            "300/300 [==============================] - 156s 521ms/step - loss: 0.0549 - val_loss: 0.0411\n"
          ],
          "name": "stdout"
        }
      ]
    },
    {
      "cell_type": "code",
      "metadata": {
        "id": "SfZ-t7w1qQ2N",
        "colab_type": "code",
        "outputId": "066daa72-16cb-4778-8efe-9c852bbeb49e",
        "colab": {
          "base_uri": "https://localhost:8080/",
          "height": 283
        }
      },
      "source": [
        "plt.plot(history.history['loss'])\n",
        "plt.plot(history.history['val_loss'])\n",
        "plt.legend(['training','validation'])\n",
        "plt.xlabel('epochs')\n",
        "plt.grid(True)"
      ],
      "execution_count": 0,
      "outputs": [
        {
          "output_type": "display_data",
          "data": {
            "image/png": "[encoded data removed]",
            "text/plain": [
              "<Figure size 432x288 with 1 Axes>"
            ]
          },
          "metadata": {
            "tags": []
          }
        }
      ]
    },
    {
      "cell_type": "code",
      "metadata": {
        "id": "TAVH0bHrrR-r",
        "colab_type": "code",
        "colab": {}
      },
      "source": [
        "#model.save('driving_model_12.hdf5')"
      ],
      "execution_count": 0,
      "outputs": []
    },
    {
      "cell_type": "code",
      "metadata": {
        "id": "BiOmwEGfrWxB",
        "colab_type": "code",
        "colab": {}
      },
      "source": [
        "#from google.colab import files"
      ],
      "execution_count": 0,
      "outputs": []
    },
    {
      "cell_type": "code",
      "metadata": {
        "id": "88CbzNDVRKZ2",
        "colab_type": "code",
        "outputId": "f33b6dcd-6eb3-4650-940f-fa815cc9bc5f",
        "colab": {
          "base_uri": "https://localhost:8080/",
          "height": 51
        }
      },
      "source": [
        "!ls"
      ],
      "execution_count": 0,
      "outputs": [
        {
          "output_type": "stream",
          "text": [
            "PilotNet_model-01-0.04.hdf5  PilotNet_model-03-0.04.hdf5  track\n",
            "PilotNet_model-02-0.04.hdf5  sample_data\t\t  Track_2\n"
          ],
          "name": "stdout"
        }
      ]
    },
    {
      "cell_type": "code",
      "metadata": {
        "id": "paGM7towrZ2o",
        "colab_type": "code",
        "outputId": "3dabf82a-d76d-4b3b-ae0a-b5f8e0711559",
        "colab": {
          "base_uri": "https://localhost:8080/",
          "height": 282
        }
      },
      "source": [
        "files.download('PilotNet_model-06-0.10.hdf5')"
      ],
      "execution_count": 0,
      "outputs": [
        {
          "output_type": "error",
          "ename": "FileNotFoundError",
          "evalue": "ignored",
          "traceback": [
            "\u001b[0;31m---------------------------------------------------------------------------\u001b[0m",
            "\u001b[0;31mFileNotFoundError\u001b[0m                         Traceback (most recent call last)",
            "\u001b[0;32m<ipython-input-41-95405f5e3d9c>\u001b[0m in \u001b[0;36m<module>\u001b[0;34m()\u001b[0m\n\u001b[0;32m----> 1\u001b[0;31m \u001b[0mfiles\u001b[0m\u001b[0;34m.\u001b[0m\u001b[0mdownload\u001b[0m\u001b[0;34m(\u001b[0m\u001b[0;34m'PilotNet_model-06-0.10.hdf5'\u001b[0m\u001b[0;34m)\u001b[0m\u001b[0;34m\u001b[0m\u001b[0;34m\u001b[0m\u001b[0m\n\u001b[0m",
            "\u001b[0;32m/usr/local/lib/python3.6/dist-packages/google/colab/files.py\u001b[0m in \u001b[0;36mdownload\u001b[0;34m(filename)\u001b[0m\n\u001b[1;32m    142\u001b[0m       \u001b[0;32mraise\u001b[0m \u001b[0mOSError\u001b[0m\u001b[0;34m(\u001b[0m\u001b[0mmsg\u001b[0m\u001b[0;34m)\u001b[0m\u001b[0;34m\u001b[0m\u001b[0;34m\u001b[0m\u001b[0m\n\u001b[1;32m    143\u001b[0m     \u001b[0;32melse\u001b[0m\u001b[0;34m:\u001b[0m\u001b[0;34m\u001b[0m\u001b[0;34m\u001b[0m\u001b[0m\n\u001b[0;32m--> 144\u001b[0;31m       \u001b[0;32mraise\u001b[0m \u001b[0mFileNotFoundError\u001b[0m\u001b[0;34m(\u001b[0m\u001b[0mmsg\u001b[0m\u001b[0;34m)\u001b[0m  \u001b[0;31m# pylint: disable=undefined-variable\u001b[0m\u001b[0;34m\u001b[0m\u001b[0;34m\u001b[0m\u001b[0m\n\u001b[0m\u001b[1;32m    145\u001b[0m \u001b[0;34m\u001b[0m\u001b[0m\n\u001b[1;32m    146\u001b[0m   \u001b[0mstarted\u001b[0m \u001b[0;34m=\u001b[0m \u001b[0m_threading\u001b[0m\u001b[0;34m.\u001b[0m\u001b[0mEvent\u001b[0m\u001b[0;34m(\u001b[0m\u001b[0;34m)\u001b[0m\u001b[0;34m\u001b[0m\u001b[0;34m\u001b[0m\u001b[0m\n",
            "\u001b[0;31mFileNotFoundError\u001b[0m: Cannot find file: PilotNet_model-06-0.10.hdf5"
          ]
        }
      ]
    },
    {
      "cell_type": "code",
      "metadata": {
        "id": "JZSxjvj-BdKv",
        "colab_type": "code",
        "colab": {}
      },
      "source": [
        ""
      ],
      "execution_count": 0,
      "outputs": []
    }
  ]
}