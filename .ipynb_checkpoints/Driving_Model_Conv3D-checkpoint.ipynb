{
 "cells": [
  {
   "cell_type": "markdown",
   "metadata": {
    "colab_type": "text",
    "id": "view-in-github"
   },
   "source": [
    "<a href=\"https://colab.research.google.com/github/jerzy456/Udacity_Car_Simulator_Playground/blob/master/Driving_Model_Conv3D.ipynb\" target=\"_parent\"><img src=\"https://colab.research.google.com/assets/colab-badge.svg\" alt=\"Open In Colab\"/></a>"
   ]
  },
  {
   "cell_type": "code",
   "execution_count": 3,
   "metadata": {
    "colab": {
     "base_uri": "https://localhost:8080/",
     "height": 51
    },
    "colab_type": "code",
    "id": "Vz9vCHQ_i_8A",
    "outputId": "7d38b1ef-9599-440d-d0ee-7e64d58a8bc5"
   },
   "outputs": [
    {
     "name": "stderr",
     "output_type": "stream",
     "text": [
      "Cloning into 'track'...\n",
      "Checking out files:  11% (1402/12160)\n",
      "Checking out files:  12% (1460/12160)\n",
      "Checking out files:  13% (1581/12160)\n",
      "Checking out files:  14% (1703/12160)\n",
      "Checking out files:  15% (1824/12160)\n",
      "Checking out files:  16% (1946/12160)\n",
      "Checking out files:  17% (2068/12160)\n",
      "Checking out files:  18% (2189/12160)\n",
      "Checking out files:  19% (2311/12160)\n",
      "Checking out files:  20% (2432/12160)\n",
      "Checking out files:  21% (2554/12160)\n",
      "Checking out files:  21% (2649/12160)\n",
      "Checking out files:  22% (2676/12160)\n",
      "Checking out files:  23% (2797/12160)\n",
      "Checking out files:  24% (2919/12160)\n",
      "Checking out files:  25% (3040/12160)\n",
      "Checking out files:  26% (3162/12160)\n",
      "Checking out files:  27% (3284/12160)\n",
      "Checking out files:  28% (3405/12160)\n",
      "Checking out files:  29% (3527/12160)\n",
      "Checking out files:  30% (3648/12160)\n",
      "Checking out files:  31% (3770/12160)\n",
      "Checking out files:  31% (3865/12160)\n",
      "Checking out files:  32% (3892/12160)\n",
      "Checking out files:  33% (4013/12160)\n",
      "Checking out files:  34% (4135/12160)\n",
      "Checking out files:  35% (4256/12160)\n",
      "Checking out files:  36% (4378/12160)\n",
      "Checking out files:  37% (4500/12160)\n",
      "Checking out files:  38% (4621/12160)\n",
      "Checking out files:  39% (4743/12160)\n",
      "Checking out files:  40% (4864/12160)\n",
      "Checking out files:  41% (4986/12160)\n",
      "Checking out files:  41% (5104/12160)\n",
      "Checking out files:  42% (5108/12160)\n",
      "Checking out files:  43% (5229/12160)\n",
      "Checking out files:  44% (5351/12160)\n",
      "Checking out files:  45% (5472/12160)\n",
      "Checking out files:  46% (5594/12160)\n",
      "Checking out files:  47% (5716/12160)\n",
      "Checking out files:  48% (5837/12160)\n",
      "Checking out files:  49% (5959/12160)\n",
      "Checking out files:  50% (6080/12160)\n",
      "Checking out files:  51% (6202/12160)\n",
      "Checking out files:  51% (6278/12160)\n",
      "Checking out files:  52% (6324/12160)\n",
      "Checking out files:  53% (6445/12160)\n",
      "Checking out files:  54% (6567/12160)\n",
      "Checking out files:  55% (6688/12160)\n",
      "Checking out files:  56% (6810/12160)\n",
      "Checking out files:  57% (6932/12160)\n",
      "Checking out files:  58% (7053/12160)\n",
      "Checking out files:  59% (7175/12160)\n",
      "Checking out files:  60% (7296/12160)\n",
      "Checking out files:  61% (7418/12160)\n",
      "Checking out files:  61% (7464/12160)\n",
      "Checking out files:  62% (7540/12160)\n",
      "Checking out files:  63% (7661/12160)\n",
      "Checking out files:  64% (7783/12160)\n",
      "Checking out files:  65% (7904/12160)\n",
      "Checking out files:  66% (8026/12160)\n",
      "Checking out files:  67% (8148/12160)\n",
      "Checking out files:  68% (8269/12160)\n",
      "Checking out files:  69% (8391/12160)\n",
      "Checking out files:  70% (8512/12160)\n",
      "Checking out files:  71% (8634/12160)\n",
      "Checking out files:  71% (8661/12160)\n",
      "Checking out files:  72% (8756/12160)\n",
      "Checking out files:  73% (8877/12160)\n",
      "Checking out files:  74% (8999/12160)\n",
      "Checking out files:  75% (9120/12160)\n",
      "Checking out files:  76% (9242/12160)\n",
      "Checking out files:  77% (9364/12160)\n",
      "Checking out files:  78% (9485/12160)\n",
      "Checking out files:  79% (9607/12160)\n",
      "Checking out files:  80% (9728/12160)\n",
      "Checking out files:  81% (9850/12160)\n",
      "Checking out files:  82% (9972/12160)\n",
      "Checking out files:  82% (10019/12160)\n",
      "Checking out files:  83% (10093/12160)\n",
      "Checking out files:  84% (10215/12160)\n",
      "Checking out files:  85% (10336/12160)\n",
      "Checking out files:  86% (10458/12160)\n",
      "Checking out files:  87% (10580/12160)\n",
      "Checking out files:  88% (10701/12160)\n",
      "Checking out files:  89% (10823/12160)\n",
      "Checking out files:  90% (10944/12160)\n",
      "Checking out files:  91% (11066/12160)\n",
      "Checking out files:  92% (11188/12160)\n",
      "Checking out files:  93% (11309/12160)\n",
      "Checking out files:  93% (11346/12160)\n",
      "Checking out files:  94% (11431/12160)\n",
      "Checking out files:  95% (11552/12160)\n",
      "Checking out files:  96% (11674/12160)\n",
      "Checking out files:  97% (11796/12160)\n",
      "Checking out files:  98% (11917/12160)\n",
      "Checking out files:  99% (12039/12160)\n",
      "Checking out files: 100% (12160/12160)\n",
      "Checking out files: 100% (12160/12160), done.\n",
      "'ls' is not recognized as an internal or external command,\n",
      "operable program or batch file.\n"
     ]
    }
   ],
   "source": [
    "!git clone https://github.com/rslim087a/track\n",
    "!ls track"
   ]
  },
  {
   "cell_type": "code",
   "execution_count": 4,
   "metadata": {
    "colab": {},
    "colab_type": "code",
    "id": "Dm-Scp3UjETO"
   },
   "outputs": [
    {
     "name": "stderr",
     "output_type": "stream",
     "text": [
      "'rm' is not recognized as an internal or external command,\n",
      "operable program or batch file.\n"
     ]
    }
   ],
   "source": [
    " !rm *.hdf5"
   ]
  },
  {
   "cell_type": "code",
   "execution_count": 5,
   "metadata": {
    "colab": {
     "base_uri": "https://localhost:8080/",
     "height": 34
    },
    "colab_type": "code",
    "id": "Y-ncOUSLjGo_",
    "outputId": "bea37ad0-3290-4f1b-8124-55d2ea6ad95d"
   },
   "outputs": [
    {
     "name": "stderr",
     "output_type": "stream",
     "text": [
      "Using TensorFlow backend.\n"
     ]
    },
    {
     "ename": "ModuleNotFoundError",
     "evalue": "No module named 'google.colab'",
     "output_type": "error",
     "traceback": [
      "\u001b[1;31m---------------------------------------------------------------------------\u001b[0m",
      "\u001b[1;31mModuleNotFoundError\u001b[0m                       Traceback (most recent call last)",
      "\u001b[1;32m<ipython-input-5-76eea707a8ee>\u001b[0m in \u001b[0;36m<module>\u001b[1;34m\u001b[0m\n\u001b[0;32m     16\u001b[0m \u001b[1;32mimport\u001b[0m \u001b[0mntpath\u001b[0m\u001b[1;33m\u001b[0m\u001b[1;33m\u001b[0m\u001b[0m\n\u001b[0;32m     17\u001b[0m \u001b[1;32mimport\u001b[0m \u001b[0mrandom\u001b[0m\u001b[1;33m\u001b[0m\u001b[1;33m\u001b[0m\u001b[0m\n\u001b[1;32m---> 18\u001b[1;33m \u001b[1;32mfrom\u001b[0m \u001b[0mgoogle\u001b[0m\u001b[1;33m.\u001b[0m\u001b[0mcolab\u001b[0m \u001b[1;32mimport\u001b[0m \u001b[0mfiles\u001b[0m\u001b[1;33m\u001b[0m\u001b[1;33m\u001b[0m\u001b[0m\n\u001b[0m",
      "\u001b[1;31mModuleNotFoundError\u001b[0m: No module named 'google.colab'"
     ]
    }
   ],
   "source": [
    "import os\n",
    "import numpy as np\n",
    "import matplotlib.pyplot as plt\n",
    "import matplotlib.image as mpimg\n",
    "import keras\n",
    "\n",
    "from keras.models import Sequential\n",
    "from keras.optimizers import Adam, adadelta\n",
    "from keras.layers import Convolution2D, MaxPooling2D, Dropout, Flatten, Dense, ConvLSTM2D, Conv3D,MaxPooling3D,ZeroPadding3D\n",
    "from keras.layers.normalization import BatchNormalization\n",
    "from sklearn.utils import shuffle\n",
    "from sklearn.model_selection import train_test_split\n",
    "from imgaug import augmenters as iaa\n",
    "import cv2\n",
    "import pandas as pd\n",
    "import ntpath\n",
    "import random\n",
    "from google.colab import files"
   ]
  },
  {
   "cell_type": "markdown",
   "metadata": {
    "colab_type": "text",
    "id": "5gArD4Tcjdno"
   },
   "source": [
    "***Load Data***"
   ]
  },
  {
   "cell_type": "code",
   "execution_count": null,
   "metadata": {
    "colab": {
     "base_uri": "https://localhost:8080/",
     "height": 224
    },
    "colab_type": "code",
    "id": "IeSFtsuHjIfG",
    "outputId": "dea91be3-60cc-4bdf-c75b-45973cabb65f"
   },
   "outputs": [],
   "source": [
    "datadir ='track'\n",
    "columns = ['center', 'left','right', 'steering', 'throttle','reverse', 'speed']\n",
    "data=pd.read_csv(os.path.join(datadir,'driving_log.csv'), names = columns, index_col=False )\n",
    "pd.set_option('display.max_colwidth',-1)\n",
    "data.head()"
   ]
  },
  {
   "cell_type": "code",
   "execution_count": null,
   "metadata": {
    "colab": {},
    "colab_type": "code",
    "id": "VQJWRAzrjK0B"
   },
   "outputs": [],
   "source": [
    "def path_leaf(path):\n",
    "  head, tail = ntpath.split(path)\n",
    "  return tail"
   ]
  },
  {
   "cell_type": "code",
   "execution_count": null,
   "metadata": {
    "colab": {
     "base_uri": "https://localhost:8080/",
     "height": 153
    },
    "colab_type": "code",
    "id": "tlv9zrDdjMlJ",
    "outputId": "0865f4a4-070d-4c2b-c328-729a4ae21dcc"
   },
   "outputs": [],
   "source": [
    "data['center']=data['center'].apply(path_leaf)\n",
    "data['right']=data['right'].apply(path_leaf)\n",
    "data['left']=data['left'].apply(path_leaf)\n",
    "print(data.head())"
   ]
  },
  {
   "cell_type": "code",
   "execution_count": null,
   "metadata": {
    "colab": {
     "base_uri": "https://localhost:8080/",
     "height": 337
    },
    "colab_type": "code",
    "id": "jkj4wekEjSJv",
    "outputId": "3513e69a-ee79-42c7-c7cc-e7bb4cae6003"
   },
   "outputs": [],
   "source": [
    "num_bins = 25\n",
    "samples_per_bin = 150\n",
    "hist, bins =np.histogram(data['steering'],num_bins)\n",
    "center =(bins[:-1]+bins[1:])*0.5\n",
    "print(bins)\n",
    "plt.bar(center, hist, width=0.05)\n",
    "plt.plot((np.min(data['steering']),np.max(data['steering'])),(samples_per_bin, samples_per_bin))"
   ]
  },
  {
   "cell_type": "code",
   "execution_count": null,
   "metadata": {
    "colab": {
     "base_uri": "https://localhost:8080/",
     "height": 68
    },
    "colab_type": "code",
    "id": "YAKebBA2jV-j",
    "outputId": "c36a1d63-9bb0-46dd-e48a-fbc1efe2db4a"
   },
   "outputs": [],
   "source": [
    "print('All data:', len(data))\n",
    "remove_list =[]\n",
    "for j in range(num_bins):\n",
    "  list_ =[]\n",
    "  for i in range(len(data['steering'])):\n",
    "    if data['steering'][i]>=bins[j] and data['steering'][i]<=bins[j+1]:\n",
    "      list_.append(i)\n",
    "  list_ = shuffle(list_)\n",
    "  list_= list_[samples_per_bin:]\n",
    "  remove_list.extend(list_)\n",
    "    \n",
    "print('Removed:', len(remove_list))\n",
    "data.drop(data.index[remove_list], inplace = True)\n",
    "print('Remaining:', len(data))\n"
   ]
  },
  {
   "cell_type": "code",
   "execution_count": null,
   "metadata": {
    "colab": {
     "base_uri": "https://localhost:8080/",
     "height": 286
    },
    "colab_type": "code",
    "id": "v75Yg_lMjaDX",
    "outputId": "e0b81089-9433-4e86-bd6c-1ef8c6e78fb1"
   },
   "outputs": [],
   "source": [
    "hist, bins =np.histogram(data['steering'],num_bins)\n",
    "plt.bar(center, hist, width=0.05)\n",
    "plt.plot((np.min(data['steering']),np.max(data['steering'])),(samples_per_bin, samples_per_bin))"
   ]
  },
  {
   "cell_type": "markdown",
   "metadata": {
    "colab_type": "text",
    "id": "DFXex6E7jm84"
   },
   "source": [
    "***Load Pictures***"
   ]
  },
  {
   "cell_type": "code",
   "execution_count": null,
   "metadata": {
    "colab": {},
    "colab_type": "code",
    "id": "7Sjhm4Oyjq1z"
   },
   "outputs": [],
   "source": [
    "def load_img_steering(datadir,df):\n",
    "  image_path=[]\n",
    "  steering =[]\n",
    "  for i in range(len(data)):\n",
    "    indexed_data = data.iloc[i]\n",
    "    center, left, right = indexed_data[0], indexed_data[2], indexed_data[3]\n",
    "    image_path.append(os.path.join(datadir, center.strip()))\n",
    "    steering.append(float(indexed_data[3]))\n",
    "  image_paths = np.asarray(image_path)\n",
    "  steerings =np.asarray(steering)\n",
    "  return image_paths, steerings"
   ]
  },
  {
   "cell_type": "code",
   "execution_count": null,
   "metadata": {
    "colab": {},
    "colab_type": "code",
    "id": "oHrARgSNjs9j"
   },
   "outputs": [],
   "source": [
    "source = datadir +\"/IMG\"\n",
    "image_paths, steerings = load_img_steering(source, data)"
   ]
  },
  {
   "cell_type": "code",
   "execution_count": null,
   "metadata": {
    "colab": {},
    "colab_type": "code",
    "id": "hBWEtRXojvDO"
   },
   "outputs": [],
   "source": [
    "x_train, x_valid, y_train, y_valid =train_test_split(image_paths, steerings, test_size=0.2,shuffle=False, random_state=0)"
   ]
  },
  {
   "cell_type": "code",
   "execution_count": null,
   "metadata": {
    "colab": {
     "base_uri": "https://localhost:8080/",
     "height": 298
    },
    "colab_type": "code",
    "id": "LbVgCgJHjxTc",
    "outputId": "c3dc3d90-0618-4737-bc43-a8e822045527"
   },
   "outputs": [],
   "source": [
    "fig, axes = plt.subplots(1,2,figsize=(12,4))\n",
    "axes[0].hist(y_train, bins=num_bins, width=0.05, color='blue')\n",
    "axes[0].set_title('Training set')\n",
    "\n",
    "\n",
    "axes[1].hist(y_valid, bins=num_bins, width=0.05, color='red')\n",
    "axes[1].set_title('Validation set')"
   ]
  },
  {
   "cell_type": "code",
   "execution_count": null,
   "metadata": {
    "colab": {},
    "colab_type": "code",
    "id": "FRU7uP3XjzAE"
   },
   "outputs": [],
   "source": [
    "def zoom(image):\n",
    "  zoom=iaa.Affine(scale=(1,1.3))\n",
    "  image = zoom.augment_image(image)\n",
    "  return image"
   ]
  },
  {
   "cell_type": "code",
   "execution_count": null,
   "metadata": {
    "colab": {
     "base_uri": "https://localhost:8080/",
     "height": 327
    },
    "colab_type": "code",
    "id": "UOvIe6Chj0wS",
    "outputId": "6a50cdf1-d6f2-4487-a59f-49011798242e"
   },
   "outputs": [],
   "source": [
    "image = image_paths[random.randint(0,1000)]\n",
    "original_image=mpimg.imread(image)\n",
    "fig,axes = plt.subplots(1,2, figsize=(15,10))\n",
    "fig.tight_layout()\n",
    "\n",
    "axes[0].imshow(original_image)\n",
    "axes[0].set_title('original_image')\n",
    "\n",
    "axes[1].imshow(zoom(original_image))\n",
    "axes[1].set_title('preprocessed_image')"
   ]
  },
  {
   "cell_type": "code",
   "execution_count": null,
   "metadata": {
    "colab": {},
    "colab_type": "code",
    "id": "zd7DmoS1j2ic"
   },
   "outputs": [],
   "source": [
    "def pan(image):\n",
    "  pan=iaa.Affine(translate_percent={\"x\":(-0.1,0.1), \"y\":(-0.1,0.1)})\n",
    "  image = pan.augment_image(image)\n",
    "  return image"
   ]
  },
  {
   "cell_type": "code",
   "execution_count": null,
   "metadata": {
    "colab": {
     "base_uri": "https://localhost:8080/",
     "height": 327
    },
    "colab_type": "code",
    "id": "4tdrMxH1j4Z-",
    "outputId": "775496ef-b3b1-47c5-e406-a49ae7b76136"
   },
   "outputs": [],
   "source": [
    "image = image_paths[random.randint(0,1000)]\n",
    "original_image=mpimg.imread(image)\n",
    "fig,axes = plt.subplots(1,2, figsize=(15,10))\n",
    "fig.tight_layout()\n",
    "\n",
    "axes[0].imshow(original_image)\n",
    "axes[0].set_title('original_image')\n",
    "\n",
    "axes[1].imshow(pan(original_image))\n",
    "axes[1].set_title('preprocessed_image')"
   ]
  },
  {
   "cell_type": "code",
   "execution_count": null,
   "metadata": {
    "colab": {},
    "colab_type": "code",
    "id": "hXgG3ztTj7nX"
   },
   "outputs": [],
   "source": [
    "def img_random_brightness(image):\n",
    "  brightness_val=iaa.Multiply((0.2,1.2))\n",
    "  image = brightness_val.augment_image(image)\n",
    "  return image"
   ]
  },
  {
   "cell_type": "code",
   "execution_count": null,
   "metadata": {
    "colab": {
     "base_uri": "https://localhost:8080/",
     "height": 327
    },
    "colab_type": "code",
    "id": "m4m-noaCj9Kh",
    "outputId": "4c9d38b4-2e84-4156-f0a6-8a5366b2de22"
   },
   "outputs": [],
   "source": [
    "image = image_paths[random.randint(0,1000)]\n",
    "original_image=mpimg.imread(image)\n",
    "fig,axes = plt.subplots(1,2, figsize=(15,10))\n",
    "fig.tight_layout()\n",
    "\n",
    "axes[0].imshow(original_image)\n",
    "axes[0].set_title('original_image')\n",
    "\n",
    "axes[1].imshow(img_random_brightness(original_image))\n",
    "axes[1].set_title('preprocessed_image')"
   ]
  },
  {
   "cell_type": "code",
   "execution_count": null,
   "metadata": {
    "colab": {},
    "colab_type": "code",
    "id": "gxOBa6DAj_Xf"
   },
   "outputs": [],
   "source": [
    "def img_random_flip(image,steering_angle ):\n",
    "  \n",
    "  image = cv2.flip(image, 1)\n",
    "  steering_angle = -steering_angle\n",
    "  return image, steering_angle"
   ]
  },
  {
   "cell_type": "code",
   "execution_count": null,
   "metadata": {
    "colab": {
     "base_uri": "https://localhost:8080/",
     "height": 327
    },
    "colab_type": "code",
    "id": "9hEVWbGAkBWI",
    "outputId": "0ec86200-b5e4-4a85-8312-572f3fe16b51"
   },
   "outputs": [],
   "source": [
    "random_index = random.randint(0,1000)\n",
    "image = image_paths[random_index]\n",
    "steering_angle = steerings[random_index]\n",
    "\n",
    "\n",
    "original_image=mpimg.imread(image)\n",
    "flipped_image, flipped_steering_angle =img_random_flip(original_image,steering_angle)\n",
    "\n",
    "\n",
    "fig,axes = plt.subplots(1,2, figsize=(15,10))\n",
    "fig.tight_layout()\n",
    "\n",
    "axes[0].imshow(original_image)\n",
    "axes[0].set_title('original_image  '+ \"angle:  \" + str(steering_angle))\n",
    "\n",
    "axes[1].imshow(flipped_image)\n",
    "axes[1].set_title('preprocessed_image  '+ \"angle:  \" + str(flipped_steering_angle))"
   ]
  },
  {
   "cell_type": "code",
   "execution_count": null,
   "metadata": {
    "colab": {},
    "colab_type": "code",
    "id": "JvppqVSPkD5f"
   },
   "outputs": [],
   "source": [
    "def random_augment(image,steering_angle):\n",
    "  image = mpimg.imread(image)\n",
    "  if np.random.rand()>0.5:\n",
    "    image = pan(image)\n",
    "  if np.random.rand()>0.5:\n",
    "    image = zoom(image)\n",
    "  if np.random.rand()>0.5:\n",
    "    image = img_random_brightness(image)\n",
    "  if np.random.rand()>0.5:\n",
    "    image, steering_angle = img_random_flip(image, steering_angle)\n",
    "  return image, steering_angle"
   ]
  },
  {
   "cell_type": "code",
   "execution_count": null,
   "metadata": {
    "colab": {
     "base_uri": "https://localhost:8080/",
     "height": 3541
    },
    "colab_type": "code",
    "id": "PLOEiSKjkF3o",
    "outputId": "a25c29aa-34e8-4264-ddc2-66e6f803a29a"
   },
   "outputs": [],
   "source": [
    "ncol = 2\n",
    "nrow = 10\n",
    " \n",
    "fig, axs = plt.subplots(nrow, ncol, figsize=(15, 50))\n",
    "fig.tight_layout()\n",
    " \n",
    "for i in range(10):\n",
    "  randnum = random.randint(0, len(image_paths) - 1)\n",
    "  random_image = image_paths[randnum]\n",
    "  random_steering = steerings[randnum]\n",
    "    \n",
    "  original_image = mpimg.imread(random_image)\n",
    "  augmented_image, steering = random_augment(random_image, random_steering)\n",
    "    \n",
    "  axs[i][0].imshow(original_image)\n",
    "  axs[i][0].set_title(\"Original Image\")\n",
    "  \n",
    "  axs[i][1].imshow(augmented_image)\n",
    "  axs[i][1].set_title(\"Augmented Image\")"
   ]
  },
  {
   "cell_type": "markdown",
   "metadata": {
    "colab_type": "text",
    "id": "ggjUsRA3kHtx"
   },
   "source": [
    "***Process image***"
   ]
  },
  {
   "cell_type": "code",
   "execution_count": null,
   "metadata": {
    "colab": {},
    "colab_type": "code",
    "id": "2wGnmNzbkUeX"
   },
   "outputs": [],
   "source": [
    "def img_preprocess(img):\n",
    "  \n",
    "  img = img[60:135]\n",
    "  img = cv2.cvtColor(img, cv2.COLOR_RGB2YUV)\n",
    "  img = cv2.GaussianBlur(img, (3,3), 0)\n",
    "  img = cv2.resize(img, (200,66))\n",
    "  img=img/255\n",
    "  return img"
   ]
  },
  {
   "cell_type": "code",
   "execution_count": null,
   "metadata": {
    "colab": {
     "base_uri": "https://localhost:8080/",
     "height": 327
    },
    "colab_type": "code",
    "id": "FonMima6kWS6",
    "outputId": "586d2c71-5477-40b0-c288-713951d9f65d"
   },
   "outputs": [],
   "source": [
    "image = image_paths[100]\n",
    "original_image = mpimg.imread(image)\n",
    "preprocessed_image = img_preprocess(original_image)\n",
    " \n",
    "fig, axs = plt.subplots(1, 2, figsize=(15, 10))\n",
    "fig.tight_layout()\n",
    "axs[0].imshow(original_image)\n",
    "axs[0].set_title('Original Image')\n",
    "axs[1].imshow(preprocessed_image)\n",
    "axs[1].set_title('Preprocessed Image')"
   ]
  },
  {
   "cell_type": "markdown",
   "metadata": {
    "colab_type": "text",
    "id": "N7KqBf1Ikc7A"
   },
   "source": [
    "***Process data***"
   ]
  },
  {
   "cell_type": "code",
   "execution_count": null,
   "metadata": {
    "colab": {},
    "colab_type": "code",
    "id": "NJhL1cNUkjhY"
   },
   "outputs": [],
   "source": [
    "from random import sample"
   ]
  },
  {
   "cell_type": "code",
   "execution_count": null,
   "metadata": {
    "colab": {},
    "colab_type": "code",
    "id": "mMGZ6AmBkt9Y"
   },
   "outputs": [],
   "source": [
    "def RNN_batch_generator(image_paths, steering_ang, batch_size, timesteps, istraining):\n",
    "  \n",
    "  while True:\n",
    "    batch_idx=[]\n",
    "    #choose bacth indexes\n",
    "    random_indexes = sample([j for j in range( timesteps,len(image_paths) - 1)],batch_size )\n",
    "    #append \"timesteps\" frames before choosen index\n",
    "    for j in range(batch_size):\n",
    "      batch_idx.append(range(random_indexes[j],random_indexes[j]-timesteps,-1))\n",
    "    batch_idx=np.asarray(batch_idx)\n",
    "  \n",
    "    batch_img=[]\n",
    "    batch_steering=[]\n",
    "    img_family = []\n",
    "    steering_family = []\n",
    "    \n",
    "    #iterate trough batch size\n",
    "    for i in range(batch_idx.shape[0]):\n",
    "      #iterate trough timesteps\n",
    "      \n",
    "      \n",
    "      for j in range(batch_idx.shape[1]):\n",
    "        if istraining:\n",
    "          \n",
    "          im, steering = random_augment(image_paths[batch_idx[i][j]], steering_ang[batch_idx[i][j]])\n",
    "        else:\n",
    "          im = mpimg.imread(image_paths[batch_idx[i][j]])\n",
    "          steering = steering_ang[batch_idx[i][j]]\n",
    "        if j==0:\n",
    "           batch_steering.append(steering)\n",
    "          \n",
    "        im = img_preprocess(im)\n",
    "        img_family.append(im)\n",
    "       \n",
    "        \n",
    "      batch_img.append(img_family)\n",
    "      img_family = []\n",
    "      steering_family = []\n",
    "    yield (np.asarray(batch_img), np.asarray(batch_steering))"
   ]
  },
  {
   "cell_type": "code",
   "execution_count": null,
   "metadata": {
    "colab": {
     "base_uri": "https://localhost:8080/",
     "height": 51
    },
    "colab_type": "code",
    "id": "2bfn9qNKkzRc",
    "outputId": "c4057915-8492-4450-82c1-6814fe6e48b4"
   },
   "outputs": [],
   "source": [
    "\n",
    "x_train_gen, y_train_gen =next(RNN_batch_generator(x_train, y_train, 1,3, 1))\n",
    "\n",
    "print(x_train_gen.shape)\n",
    "print(y_train_gen.shape)\n"
   ]
  },
  {
   "cell_type": "markdown",
   "metadata": {
    "colab_type": "text",
    "id": "TqKF991Nk5PT"
   },
   "source": [
    "***Implement model***"
   ]
  },
  {
   "cell_type": "code",
   "execution_count": null,
   "metadata": {
    "colab": {},
    "colab_type": "code",
    "id": "xksHkSfZk7yo"
   },
   "outputs": [],
   "source": [
    "def conv_3d():\n",
    "  \"\"\"\n",
    "  Build a 3D convolutional network, based loosely on C3D.\n",
    "  https://arxiv.org/pdf/1412.0767.pdf\n",
    "  \"\"\"\n",
    "# Model.\n",
    "  model = Sequential()\n",
    "  model.add(Conv3D(32, (3,3,3), activation='relu', input_shape=(15,66,200,3)))\n",
    "  model.add(MaxPooling3D(pool_size=(1, 2, 2), strides=(1, 2, 2)))\n",
    "  model.add(Conv3D(64, (3,3,3), activation='relu'))\n",
    "  model.add(MaxPooling3D(pool_size=(1, 2, 2), strides=(1, 2, 2)))\n",
    "  model.add(Conv3D(128, (3,3,3), activation='relu'))\n",
    "  model.add(Conv3D(128, (3,3,3), activation='relu'))\n",
    "  model.add(MaxPooling3D(pool_size=(1, 2, 2), strides=(1, 2, 2)))\n",
    "  model.add(Conv3D(256, (2,2,2), activation='relu'))\n",
    "  model.add(Conv3D(256, (2,2,2), activation='relu'))\n",
    "  model.add(MaxPooling3D(pool_size=(1, 2, 2), strides=(1, 2, 2)))\n",
    "\n",
    "  model.add(Flatten())\n",
    "  model.add(Dense(256))\n",
    "  model.add(Dropout(0.2))\n",
    "  model.add(Dense(128))\n",
    "  model.add(Dropout(64))\n",
    "  model.add(Dropout(0.2))\n",
    "  model.add(Dense(8))\n",
    "  model.add(Dropout(0.2))\n",
    "  model.add(Dense(2, activation='elu'))\n",
    "  model.compile(loss='mse', optimizer = Adam(lr=1e-4))\n",
    "  return model"
   ]
  },
  {
   "cell_type": "code",
   "execution_count": null,
   "metadata": {
    "colab": {},
    "colab_type": "code",
    "id": "y19WSlFjt0ze"
   },
   "outputs": [],
   "source": [
    "def c3d():\n",
    "  \"\"\"\n",
    "  Build a 3D convolutional network, aka C3D.\n",
    "  https://arxiv.org/pdf/1412.0767.pdf\n",
    "  With thanks:\n",
    "  https://gist.github.com/albertomontesg/d8b21a179c1e6cca0480ebdf292c34d2\n",
    "  \"\"\"\n",
    "  model = Sequential()\n",
    "  # 1st layer group\n",
    "  model.add(Conv3D(64, 3, 3, 3, activation='relu',\n",
    "                   border_mode='same', name='conv1',\n",
    "                   subsample=(1, 1, 1),\n",
    "                   input_shape=(15,66,200,3)))\n",
    "  model.add(MaxPooling3D(pool_size=(1, 2, 2), strides=(1, 2, 2),\n",
    "                         border_mode='valid', name='pool1'))\n",
    "  # 2nd layer group\n",
    "  model.add(Conv3D(128, 3, 3, 3, activation='relu',\n",
    "                         border_mode='same', name='conv2',\n",
    "                         subsample=(1, 1, 1)))\n",
    "  model.add(MaxPooling3D(pool_size=(2, 2, 2), strides=(2, 2, 2),\n",
    "                         border_mode='valid', name='pool2'))\n",
    "  # 3rd layer group\n",
    "  model.add(Conv3D(256, 3, 3, 3, activation='relu',\n",
    "                         border_mode='same', name='conv3a',\n",
    "                         subsample=(1, 1, 1)))\n",
    "  model.add(Conv3D(256, 3, 3, 3, activation='relu',\n",
    "                         border_mode='same', name='conv3b',\n",
    "                         subsample=(1, 1, 1)))\n",
    "  model.add(MaxPooling3D(pool_size=(2, 2, 2), strides=(2, 2, 2),\n",
    "                               border_mode='valid', name='pool3'))\n",
    "  # 4th layer group\n",
    "  model.add(Conv3D(512, 3, 3, 3, activation='relu',\n",
    "                         border_mode='same', name='conv4a',\n",
    "                         subsample=(1, 1, 1)))\n",
    "  model.add(Conv3D(512, 3, 3, 3, activation='relu',\n",
    "                         border_mode='same', name='conv4b',\n",
    "                         subsample=(1, 1, 1)))\n",
    "  model.add(MaxPooling3D(pool_size=(2, 2, 2), strides=(2, 2, 2),\n",
    "                               border_mode='valid', name='pool4'))\n",
    "\n",
    "  # 5th layer group\n",
    "  model.add(Conv3D(512, 3, 3, 3, activation='relu',\n",
    "                         border_mode='same', name='conv5a',\n",
    "                         subsample=(1, 1, 1)))\n",
    "  model.add(Conv3D(512, 3, 3, 3, activation='relu',\n",
    "                         border_mode='same', name='conv5b',\n",
    "                         subsample=(1, 1, 1)))\n",
    "  model.add(ZeroPadding3D(padding=(0, 1, 1)))\n",
    "  model.add(MaxPooling3D(pool_size=(2, 2, 2), strides=(2, 2, 2),\n",
    "                               border_mode='valid', name='pool5'))\n",
    "  model.add(Flatten())\n",
    "\n",
    "  # FC layers group\n",
    "  model.add(Dense(4096, activation='relu', name='fc6'))\n",
    "  model.add(Dropout(0.5))\n",
    "  model.add(Dense(4096, activation='relu', name='fc7'))\n",
    "  model.add(Dense(self.nb_classes, activation='softmax'))\n",
    "  model.compile(loss='mse', optimizer = Adam(lr=1e-4))\n",
    "\n",
    "  return model"
   ]
  },
  {
   "cell_type": "code",
   "execution_count": null,
   "metadata": {
    "colab": {},
    "colab_type": "code",
    "id": "Z2QEqk5w2MXK"
   },
   "outputs": [],
   "source": [
    "#Callbacks\n",
    "  filepath= 'PilotNet_model-{epoch:02d}-{val_loss:.2f}.hdf5'\n",
    "  \n",
    "  callback1 = keras.callbacks.ModelCheckpoint(filepath, monitor='val_loss', verbose=0, save_best_only=True, save_weights_only=False, mode='auto', period=1)\n",
    "  callback2 = keras.callbacks.EarlyStopping(monitor='val_loss', min_delta=0, patience=3, verbose=0, mode='auto', baseline=None, restore_best_weights=False)"
   ]
  },
  {
   "cell_type": "code",
   "execution_count": null,
   "metadata": {
    "colab": {
     "base_uri": "https://localhost:8080/",
     "height": 887
    },
    "colab_type": "code",
    "id": "K49ZKJfylHQB",
    "outputId": "79b20d06-851c-4110-b339-48f7778753f3"
   },
   "outputs": [],
   "source": [
    "model = conv_3d()\n",
    "print(model.summary())"
   ]
  },
  {
   "cell_type": "code",
   "execution_count": null,
   "metadata": {
    "colab": {},
    "colab_type": "code",
    "id": "gMINyeCaUOi-"
   },
   "outputs": [],
   "source": [
    "from keras.models import Model"
   ]
  },
  {
   "cell_type": "code",
   "execution_count": null,
   "metadata": {
    "colab": {
     "base_uri": "https://localhost:8080/",
     "height": 85
    },
    "colab_type": "code",
    "id": "ihZazmkfTwzj",
    "outputId": "5d769533-ca6b-471d-cbe4-66fc22c25bdb"
   },
   "outputs": [],
   "source": [
    "layer1 = Model(inputs=model.layers[0].input, outputs=model.layers[0].output)\n",
    "layer2 = Model(inputs=model.layers[0].input, outputs=model.layers[2].output)\n",
    "exp_data = next(RNN_batch_generator(x_valid, y_valid, 20,15, 1))\n",
    "print(\"X shape: \", exp_data[0].shape)\n",
    "print(\"Y shape: \", exp_data[1].shape)  \n",
    "      \n",
    "visual_layer1 =layer1.predict(exp_data[0])\n",
    "visual_layer2 =layer2.predict(exp_data[0])\n",
    " \n",
    "print(visual_layer1.shape)\n",
    "print(visual_layer2.shape)\n",
    "\n"
   ]
  },
  {
   "cell_type": "code",
   "execution_count": null,
   "metadata": {
    "colab": {
     "base_uri": "https://localhost:8080/",
     "height": 224
    },
    "colab_type": "code",
    "id": "QWW2HX35lLyM",
    "outputId": "c128158e-51ac-403e-e1b8-4551f73bf787"
   },
   "outputs": [],
   "source": [
    "history = model.fit_generator(RNN_batch_generator(x_train, y_train, 50,15, 1),\n",
    "                                  steps_per_epoch=300, \n",
    "                                  epochs=25,\n",
    "                                  validation_data=RNN_batch_generator(x_valid, y_valid, 50,15, 0),\n",
    "                                  validation_steps=200,\n",
    "                                  verbose=1,\n",
    "                                  shuffle = 1,\n",
    "                                  callbacks=[ callback1, callback2])"
   ]
  },
  {
   "cell_type": "code",
   "execution_count": null,
   "metadata": {
    "colab": {},
    "colab_type": "code",
    "id": "9LPklo6-lP2Z"
   },
   "outputs": [],
   "source": [
    "plt.plot(history.history['loss'])\n",
    "plt.plot(history.history['val_loss'])\n",
    "plt.legend(['training','validation'])\n",
    "plt.xlabel('epochs')\n",
    "plt.grid(True)"
   ]
  },
  {
   "cell_type": "code",
   "execution_count": null,
   "metadata": {
    "colab": {},
    "colab_type": "code",
    "id": "Yd50k9xDlUXF"
   },
   "outputs": [],
   "source": [
    "from google.colab import files"
   ]
  },
  {
   "cell_type": "code",
   "execution_count": null,
   "metadata": {
    "colab": {},
    "colab_type": "code",
    "id": "lm_BCKSxlW8Q"
   },
   "outputs": [],
   "source": [
    "files.download('model.hdf5')"
   ]
  }
 ],
 "metadata": {
  "accelerator": "GPU",
  "colab": {
   "collapsed_sections": [],
   "include_colab_link": true,
   "name": "CarSteering_RNN.ipynb",
   "provenance": [],
   "version": "0.3.2"
  },
  "kernelspec": {
   "display_name": "Python 3",
   "language": "python",
   "name": "python3"
  },
  "language_info": {
   "codemirror_mode": {
    "name": "ipython",
    "version": 3
   },
   "file_extension": ".py",
   "mimetype": "text/x-python",
   "name": "python",
   "nbconvert_exporter": "python",
   "pygments_lexer": "ipython3",
   "version": "3.7.3"
  }
 },
 "nbformat": 4,
 "nbformat_minor": 1
}
